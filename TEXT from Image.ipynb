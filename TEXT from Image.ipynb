{
 "cells": [
  {
   "cell_type": "code",
   "execution_count": 1,
   "id": "0992db01",
   "metadata": {},
   "outputs": [],
   "source": [
    "# import dependences\n",
    "import cv2\n",
    "import pytesseract\n",
    "pytesseract.pytesseract.tesseract_cmd=r\"C:\\\\Program Files\\\\Tesseract-OCR\\\\tesseract\""
   ]
  },
  {
   "cell_type": "code",
   "execution_count": 2,
   "id": "d29eb325",
   "metadata": {},
   "outputs": [],
   "source": [
    "# Read image \n",
    "img=cv2.imread(\"C:\\\\Users\\\\kasuk\\\\OneDrive\\\\Pictures\\\\kathik\\\\7.jpg\")\n",
    "cv2.imshow('img',img)\n",
    "while cv2.waitKey(0)==ord('q'):\n",
    "    break\n"
   ]
  },
  {
   "cell_type": "code",
   "execution_count": 3,
   "id": "696f3ead",
   "metadata": {},
   "outputs": [],
   "source": [
    "# for better recognition convert image to gray amd perform threshold\n",
    "gray=cv2.cvtColor(img,cv2.COLOR_BGR2GRAY)\n",
    "#blur=cv2.blur(gray,(1,1))\n",
    "ret,thresh=cv2.threshold(gray,150,255,cv2.THRESH_BINARY)\n",
    "cv2.imshow('gray',thresh)\n",
    "while cv2.waitKey(0)==ord('q'):\n",
    "    break"
   ]
  },
  {
   "cell_type": "code",
   "execution_count": 4,
   "id": "8ad6562c",
   "metadata": {},
   "outputs": [
    {
     "name": "stdout",
     "output_type": "stream",
     "text": [
      ">\n",
      "“HR26DK8337\n",
      "\n",
      "\n"
     ]
    }
   ],
   "source": [
    "# convert the img to string using pytesseract\n",
    "text=pytesseract.image_to_string(thresh)\n",
    "print(text)"
   ]
  },
  {
   "cell_type": "code",
   "execution_count": null,
   "id": "f8298042",
   "metadata": {},
   "outputs": [],
   "source": []
  }
 ],
 "metadata": {
  "kernelspec": {
   "display_name": "Python 3 (ipykernel)",
   "language": "python",
   "name": "python3"
  },
  "language_info": {
   "codemirror_mode": {
    "name": "ipython",
    "version": 3
   },
   "file_extension": ".py",
   "mimetype": "text/x-python",
   "name": "python",
   "nbconvert_exporter": "python",
   "pygments_lexer": "ipython3",
   "version": "3.9.12"
  }
 },
 "nbformat": 4,
 "nbformat_minor": 5
}
